{
 "cells": [
  {
   "cell_type": "code",
   "execution_count": 1,
   "metadata": {},
   "outputs": [],
   "source": [
    "import quandl, math\n",
    "import numpy as np\n",
    "import pandas as pd\n",
    "from sklearn import preprocessing, svm\n",
    "from sklearn.model_selection import train_test_split\n",
    "from sklearn.linear_model import LinearRegression\n",
    "import matplotlib.pyplot as plt\n",
    "from matplotlib import style\n",
    "import datetime\n",
    "import pickle"
   ]
  },
  {
   "cell_type": "code",
   "execution_count": 2,
   "metadata": {},
   "outputs": [],
   "source": [
    "style.use('ggplot')"
   ]
  },
  {
   "cell_type": "code",
   "execution_count": 3,
   "metadata": {},
   "outputs": [
    {
     "name": "stdout",
     "output_type": "stream",
     "text": [
      "             Open   High    Low  Close     Volume  Ex-Dividend  Split Ratio  \\\n",
      "Date                                                                          \n",
      "1980-12-12  28.75  28.87  28.75  28.75  2093900.0          0.0          1.0   \n",
      "1980-12-15  27.38  27.38  27.25  27.25   785200.0          0.0          1.0   \n",
      "1980-12-16  25.37  25.37  25.25  25.25   472000.0          0.0          1.0   \n",
      "1980-12-17  25.87  26.00  25.87  25.87   385900.0          0.0          1.0   \n",
      "1980-12-18  26.63  26.75  26.63  26.63   327900.0          0.0          1.0   \n",
      "\n",
      "            Adj. Open  Adj. High  Adj. Low  Adj. Close  Adj. Volume  \n",
      "Date                                                                 \n",
      "1980-12-12   0.422706   0.424470  0.422706    0.422706  117258400.0  \n",
      "1980-12-15   0.402563   0.402563  0.400652    0.400652   43971200.0  \n",
      "1980-12-16   0.373010   0.373010  0.371246    0.371246   26432000.0  \n",
      "1980-12-17   0.380362   0.382273  0.380362    0.380362   21610400.0  \n",
      "1980-12-18   0.391536   0.393300  0.391536    0.391536   18362400.0  \n"
     ]
    }
   ],
   "source": [
    "df = quandl.get(\"WIKI/AAPL\")\n",
    "print(df.head())"
   ]
  },
  {
   "cell_type": "code",
   "execution_count": 4,
   "metadata": {},
   "outputs": [
    {
     "name": "stdout",
     "output_type": "stream",
     "text": [
      "            Adj. Open  Adj. High  Adj. Low  Adj. Close  Adj. Volume\n",
      "Date                                                               \n",
      "1980-12-12   0.422706   0.424470  0.422706    0.422706  117258400.0\n",
      "1980-12-15   0.402563   0.402563  0.400652    0.400652   43971200.0\n",
      "1980-12-16   0.373010   0.373010  0.371246    0.371246   26432000.0\n",
      "1980-12-17   0.380362   0.382273  0.380362    0.380362   21610400.0\n",
      "1980-12-18   0.391536   0.393300  0.391536    0.391536   18362400.0\n"
     ]
    }
   ],
   "source": [
    "df = df[['Adj. Open',  'Adj. High',  'Adj. Low',  'Adj. Close', 'Adj. Volume']]\n",
    "print(df.head())"
   ]
  },
  {
   "cell_type": "code",
   "execution_count": 5,
   "metadata": {},
   "outputs": [],
   "source": [
    "df['HL_PCT'] = (df['Adj. High'] - df['Adj. Low']) / df['Adj. Close'] * 100.0"
   ]
  },
  {
   "cell_type": "code",
   "execution_count": 6,
   "metadata": {},
   "outputs": [],
   "source": [
    "df['PCT_change'] = (df['Adj. Close'] - df['Adj. Open']) / df['Adj. Open'] * 100.0"
   ]
  },
  {
   "cell_type": "code",
   "execution_count": 7,
   "metadata": {},
   "outputs": [
    {
     "name": "stdout",
     "output_type": "stream",
     "text": [
      "            Adj. Close    HL_PCT  PCT_change  Adj. Volume\n",
      "Date                                                     \n",
      "1980-12-12    0.422706  0.417391    0.000000  117258400.0\n",
      "1980-12-15    0.400652  0.477064   -0.474799   43971200.0\n",
      "1980-12-16    0.371246  0.475248   -0.473000   26432000.0\n",
      "1980-12-17    0.380362  0.502513    0.000000   21610400.0\n",
      "1980-12-18    0.391536  0.450620    0.000000   18362400.0\n"
     ]
    }
   ],
   "source": [
    "df = df[['Adj. Close', 'HL_PCT', 'PCT_change', 'Adj. Volume']]\n",
    "\n",
    "# we're hoping to predict, is actually the future price. As such, our features are actually: \n",
    "# current price, high minus low percent, and the percent \n",
    "# change volatility. The price that is the label shall be the price at some determined point the future\n",
    "\n",
    "print(df.head())"
   ]
  },
  {
   "cell_type": "code",
   "execution_count": 8,
   "metadata": {},
   "outputs": [],
   "source": [
    "forecast_col = 'Adj. Close'\n",
    "df.fillna(value=-99999, inplace=True)\n",
    "forecast_out = int(math.ceil(0.01 * len(df))) # Round off to the nearest value \n",
    "# We need to forecast the stock price - here we need to forecast out the 1 percent of the value\n",
    "# 0.01 says next 1 day prediction into the future"
   ]
  },
  {
   "cell_type": "code",
   "execution_count": 9,
   "metadata": {},
   "outputs": [],
   "source": [
    "# The coulumns are our features currently,and adding new column which will predict by shifting to the specified period\n",
    "df['label'] = df[forecast_col].shift(-forecast_out)"
   ]
  },
  {
   "cell_type": "code",
   "execution_count": 10,
   "metadata": {},
   "outputs": [
    {
     "name": "stderr",
     "output_type": "stream",
     "text": [
      "/Users/Suhas/anaconda3/lib/python3.7/site-packages/sklearn/preprocessing/data.py:172: UserWarning: Numerical issues were encountered when centering the data and might not be solved. Dataset may contain too large values. You may need to prescale your features.\n",
      "  warnings.warn(\"Numerical issues were encountered \"\n"
     ]
    }
   ],
   "source": [
    "# Regression - Training and Testing\n",
    "X = np.array(df.drop(['label'], 1)) # All the Features converted to numpy array\n",
    "X = preprocessing.scale(X)\n",
    "X_lately = X[-forecast_out:]\n",
    "X = X[:-forecast_out]"
   ]
  },
  {
   "cell_type": "code",
   "execution_count": 11,
   "metadata": {},
   "outputs": [],
   "source": [
    "df.dropna(inplace=True) # Because we are prediction 30 days extra empty values are created in other rows.\n",
    "# The return here is the training set of features, testing set of features,\n",
    "# Training set of labels, and testing set of labels"
   ]
  },
  {
   "cell_type": "code",
   "execution_count": 12,
   "metadata": {},
   "outputs": [],
   "source": [
    "y = np.array(df['label']) # All the Lables"
   ]
  },
  {
   "cell_type": "code",
   "execution_count": 13,
   "metadata": {},
   "outputs": [
    {
     "name": "stdout",
     "output_type": "stream",
     "text": [
      "0.975866037851413\n"
     ]
    }
   ],
   "source": [
    "# Which classifier to use - \"https://scikit-learn.org/stable/tutorial/machine_learning_map/\"\n",
    "# Using Linear Regression\n",
    "X_train, X_test, y_train, y_test = train_test_split(X, y, test_size=0.2)\n",
    "clf = LinearRegression()\n",
    "clf.fit(X_train, y_train)\n",
    "with open('linearregression.pickle','wb') as f: #Saving after the training the classifier\n",
    "    pickle.dump(clf, f)\n",
    "confidence = clf.score(X_test, y_test)\n",
    "print(confidence)"
   ]
  },
  {
   "cell_type": "code",
   "execution_count": 14,
   "metadata": {},
   "outputs": [
    {
     "name": "stdout",
     "output_type": "stream",
     "text": [
      "0.975866037851413\n"
     ]
    }
   ],
   "source": [
    "pickle_in = open('linearregression.pickle','rb')\n",
    "clf = pickle.load(pickle_in)\n",
    "confidence = clf.score(X_test, y_test)\n",
    "print(confidence)"
   ]
  },
  {
   "cell_type": "code",
   "execution_count": 15,
   "metadata": {},
   "outputs": [
    {
     "name": "stdout",
     "output_type": "stream",
     "text": [
      "0.9610441837788057\n"
     ]
    }
   ],
   "source": [
    "# Using svm\n",
    "clf = svm.SVR(gamma='auto');\n",
    "clf.fit(X_train, y_train);\n",
    "confidence = clf.score(X_test, y_test);\n",
    "print(confidence);"
   ]
  },
  {
   "cell_type": "code",
   "execution_count": 16,
   "metadata": {},
   "outputs": [
    {
     "name": "stdout",
     "output_type": "stream",
     "text": [
      "[127.43044805 126.02119434 127.18769056 126.9846529  131.51734265\n",
      " 131.1375348  130.62187403 129.4505409  123.59426422 126.17193809\n",
      " 124.99758698 127.33575485 127.38983382 102.71324276 125.60043747\n",
      " 129.04338668 120.88443935 132.21985953 127.75470045 132.31354205\n",
      " 130.98193306 111.38225145 127.62147471 129.96609606 129.91643359\n",
      " 128.43363392 125.35193616 126.71369212 128.96800212 128.32195261\n",
      " 125.55319623 131.3855214  129.71133813 130.59822133 128.46247049\n",
      " 125.4670982  130.94980489 129.09359545 126.66634314 128.87853118\n",
      " 128.60656804 126.6318212  125.42997717 125.85481819 122.3061457\n",
      " 111.37866128 124.33421409 125.49085699 124.47206389 126.7388821\n",
      " 110.80057999 109.41420862 130.07546245 123.07560102 130.61972701\n",
      " 134.20754218 133.01481501  72.70960024  84.91120759  36.7553414\n",
      " 109.92588811  85.94490589  88.29868606  86.91899113 127.42270467\n",
      " 101.38761934 111.50328605 129.51761142 130.78681805 125.51612582\n",
      " 130.40845957 124.17512768 116.55735134 123.99199995 123.56642385\n",
      "  87.29131539 110.78553092 123.81668267 124.7781003  127.60904682\n",
      " 125.17194653 120.05934797 120.52245543 111.16134197 120.40294423\n",
      " 125.81565784 123.24304547 119.48812761 128.48724238 109.08475602\n",
      " 125.33161859 107.28416589  83.11098287  68.31642299]\n"
     ]
    }
   ],
   "source": [
    "# Regression - Forecasting and Predicting\n",
    "forecast_set = clf.predict(X_lately) # Selecting only the last few rows to predict\n",
    "print(forecast_set)\n",
    "df['Forecast'] = np.nan # Adding new column to store all the values"
   ]
  },
  {
   "cell_type": "code",
   "execution_count": 17,
   "metadata": {},
   "outputs": [],
   "source": [
    "last_date = df.iloc[-1].name\n",
    "last_unix = last_date.timestamp()\n",
    "one_day = 86400\n",
    "next_unix = last_unix + one_day"
   ]
  },
  {
   "cell_type": "code",
   "execution_count": 18,
   "metadata": {},
   "outputs": [
    {
     "data": {
      "text/html": [
       "<div>\n",
       "<style scoped>\n",
       "    .dataframe tbody tr th:only-of-type {\n",
       "        vertical-align: middle;\n",
       "    }\n",
       "\n",
       "    .dataframe tbody tr th {\n",
       "        vertical-align: top;\n",
       "    }\n",
       "\n",
       "    .dataframe thead th {\n",
       "        text-align: right;\n",
       "    }\n",
       "</style>\n",
       "<table border=\"1\" class=\"dataframe\">\n",
       "  <thead>\n",
       "    <tr style=\"text-align: right;\">\n",
       "      <th></th>\n",
       "      <th>Adj. Close</th>\n",
       "      <th>HL_PCT</th>\n",
       "      <th>PCT_change</th>\n",
       "      <th>Adj. Volume</th>\n",
       "      <th>label</th>\n",
       "      <th>Forecast</th>\n",
       "    </tr>\n",
       "    <tr>\n",
       "      <th>Date</th>\n",
       "      <th></th>\n",
       "      <th></th>\n",
       "      <th></th>\n",
       "      <th></th>\n",
       "      <th></th>\n",
       "      <th></th>\n",
       "    </tr>\n",
       "  </thead>\n",
       "  <tbody>\n",
       "    <tr>\n",
       "      <td>2018-02-05</td>\n",
       "      <td>NaN</td>\n",
       "      <td>NaN</td>\n",
       "      <td>NaN</td>\n",
       "      <td>NaN</td>\n",
       "      <td>NaN</td>\n",
       "      <td>109.084756</td>\n",
       "    </tr>\n",
       "    <tr>\n",
       "      <td>2018-02-06</td>\n",
       "      <td>NaN</td>\n",
       "      <td>NaN</td>\n",
       "      <td>NaN</td>\n",
       "      <td>NaN</td>\n",
       "      <td>NaN</td>\n",
       "      <td>125.331619</td>\n",
       "    </tr>\n",
       "    <tr>\n",
       "      <td>2018-02-07</td>\n",
       "      <td>NaN</td>\n",
       "      <td>NaN</td>\n",
       "      <td>NaN</td>\n",
       "      <td>NaN</td>\n",
       "      <td>NaN</td>\n",
       "      <td>107.284166</td>\n",
       "    </tr>\n",
       "    <tr>\n",
       "      <td>2018-02-08</td>\n",
       "      <td>NaN</td>\n",
       "      <td>NaN</td>\n",
       "      <td>NaN</td>\n",
       "      <td>NaN</td>\n",
       "      <td>NaN</td>\n",
       "      <td>83.110983</td>\n",
       "    </tr>\n",
       "    <tr>\n",
       "      <td>2018-02-09</td>\n",
       "      <td>NaN</td>\n",
       "      <td>NaN</td>\n",
       "      <td>NaN</td>\n",
       "      <td>NaN</td>\n",
       "      <td>NaN</td>\n",
       "      <td>68.316423</td>\n",
       "    </tr>\n",
       "  </tbody>\n",
       "</table>\n",
       "</div>"
      ],
      "text/plain": [
       "            Adj. Close  HL_PCT  PCT_change  Adj. Volume  label    Forecast\n",
       "Date                                                                      \n",
       "2018-02-05         NaN     NaN         NaN          NaN    NaN  109.084756\n",
       "2018-02-06         NaN     NaN         NaN          NaN    NaN  125.331619\n",
       "2018-02-07         NaN     NaN         NaN          NaN    NaN  107.284166\n",
       "2018-02-08         NaN     NaN         NaN          NaN    NaN   83.110983\n",
       "2018-02-09         NaN     NaN         NaN          NaN    NaN   68.316423"
      ]
     },
     "execution_count": 18,
     "metadata": {},
     "output_type": "execute_result"
    }
   ],
   "source": [
    "for i in forecast_set:\n",
    "    next_date = datetime.datetime.fromtimestamp(next_unix)\n",
    "    next_unix += 86400\n",
    "    df.loc[next_date] = [np.nan for _ in range(len(df.columns)-1)]+[i] \n",
    "# Takes all of the first columns, setting them to NaNs, and then the final column is whatever i\n",
    "df.tail()"
   ]
  },
  {
   "cell_type": "code",
   "execution_count": 19,
   "metadata": {},
   "outputs": [
    {
     "data": {
      "image/png": "[encoded data removed]",
      "text/plain": [
       "<Figure size 432x288 with 1 Axes>"
      ]
     },
     "metadata": {},
     "output_type": "display_data"
    }
   ],
   "source": [
    "# Visualising the data\n",
    "df['Adj. Close'].plot()\n",
    "df['Forecast'].plot()\n",
    "plt.legend(loc=4)\n",
    "plt.xlabel('Date', fontsize=14)\n",
    "plt.ylabel('Price', fontsize=14)\n",
    "plt.show()\n",
    "# Blue is the predicted value"
   ]
  }
 ],
 "metadata": {
  "kernelspec": {
   "display_name": "Python 3",
   "language": "python",
   "name": "python3"
  },
  "language_info": {
   "codemirror_mode": {
    "name": "ipython",
    "version": 3
   },
   "file_extension": ".py",
   "mimetype": "text/x-python",
   "name": "python",
   "nbconvert_exporter": "python",
   "pygments_lexer": "ipython3",
   "version": "3.7.3"
  }
 },
 "nbformat": 4,
 "nbformat_minor": 2
}
